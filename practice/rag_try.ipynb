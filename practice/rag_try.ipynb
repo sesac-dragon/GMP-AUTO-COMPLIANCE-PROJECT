{
 "cells": [
  {
   "cell_type": "code",
   "execution_count": 2,
   "id": "86402b30",
   "metadata": {},
   "outputs": [],
   "source": [
    "from langchain.embeddings import HuggingFaceEmbeddings\n",
    "from langchain_community.vectorstores import Chroma"
   ]
  },
  {
   "cell_type": "code",
   "execution_count": 3,
   "id": "c53aa23d",
   "metadata": {},
   "outputs": [
    {
     "name": "stderr",
     "output_type": "stream",
     "text": [
      "C:\\Users\\황여진\\AppData\\Local\\Temp\\ipykernel_3560\\1937590222.py:4: LangChainDeprecationWarning: The class `HuggingFaceEmbeddings` was deprecated in LangChain 0.2.2 and will be removed in 1.0. An updated version of the class exists in the langchain-huggingface package and should be used instead. To use it run `pip install -U langchain-huggingface` and import as `from langchain_huggingface import HuggingFaceEmbeddings`.\n",
      "  embeddings = HuggingFaceEmbeddings(\n",
      "c:\\anaconda3\\envs\\final_pj\\Lib\\site-packages\\tqdm\\auto.py:21: TqdmWarning: IProgress not found. Please update jupyter and ipywidgets. See https://ipywidgets.readthedocs.io/en/stable/user_install.html\n",
      "  from .autonotebook import tqdm as notebook_tqdm\n"
     ]
    },
    {
     "name": "stdout",
     "output_type": "stream",
     "text": [
      "Loading SOP database from: C:\\chroma_db\\duwls_chroma_db_sop\n"
     ]
    },
    {
     "name": "stderr",
     "output_type": "stream",
     "text": [
      "C:\\Users\\황여진\\AppData\\Local\\Temp\\ipykernel_3560\\1937590222.py:13: LangChainDeprecationWarning: The class `Chroma` was deprecated in LangChain 0.2.9 and will be removed in 1.0. An updated version of the class exists in the langchain-chroma package and should be used instead. To use it run `pip install -U langchain-chroma` and import as `from langchain_chroma import Chroma`.\n",
      "  sop_vectordb = Chroma(\n"
     ]
    },
    {
     "name": "stdout",
     "output_type": "stream",
     "text": [
      "SOP database loaded successfully!\n"
     ]
    }
   ],
   "source": [
    "model_name: str = \"jhgan/ko-sroberta-multitask\"\n",
    "sop_db_path =\"C:\\chroma_db\\duwls_chroma_db_sop\"\n",
    "\n",
    "embeddings = HuggingFaceEmbeddings(\n",
    "            model_name=model_name,\n",
    "            encode_kwargs={'normalize_embeddings': True},\n",
    "            model_kwargs={'device': 'cpu'},\n",
    "        )\n",
    "        \n",
    "# SOP 벡터DB 로드\n",
    "print(f\"Loading SOP database from: {sop_db_path}\")\n",
    "try:\n",
    "    sop_vectordb = Chroma(\n",
    "        persist_directory=sop_db_path,\n",
    "        embedding_function=embeddings,\n",
    "        collection_name=\"duwls_sop_documents_semantic\"  # 실제 컬렉션명으로 수정\n",
    "    )\n",
    "    print(\"SOP database loaded successfully!\")\n",
    "except Exception as e:\n",
    "    print(f\"Error loading SOP database: {e}\")\n",
    "    sop_vectordb = None"
   ]
  },
  {
   "cell_type": "code",
   "execution_count": 4,
   "id": "d4abc69e",
   "metadata": {},
   "outputs": [
    {
     "name": "stdout",
     "output_type": "stream",
     "text": [
      "Loading GMP database from: C:\\chroma_db\\chroma_db_gmp\n",
      "GMP database loaded successfully!\n"
     ]
    }
   ],
   "source": [
    "model_name: str = \"jhgan/ko-sroberta-multitask\"\n",
    "gmp_db_path =\"C:\\chroma_db\\chroma_db_gmp\"\n",
    "\n",
    "embeddings = HuggingFaceEmbeddings(\n",
    "            model_name=model_name,\n",
    "            encode_kwargs={'normalize_embeddings': True},\n",
    "            model_kwargs={'device': 'cpu'},\n",
    "        )\n",
    "        \n",
    "# SOP 벡터DB 로드\n",
    "print(f\"Loading GMP database from: {gmp_db_path}\")\n",
    "try:\n",
    "    gmp_vectordb = Chroma(\n",
    "        persist_directory=gmp_db_path,\n",
    "        embedding_function=embeddings,\n",
    "        collection_name=\"gmp_documents_semantic\"  # 실제 컬렉션명으로 수정\n",
    "    )\n",
    "    print(\"GMP database loaded successfully!\")\n",
    "except Exception as e:\n",
    "    print(f\"Error loading GMP database: {e}\")\n",
    "    gmp_vectordb = None"
   ]
  },
  {
   "cell_type": "code",
   "execution_count": 5,
   "id": "83d50804",
   "metadata": {},
   "outputs": [
    {
     "name": "stdout",
     "output_type": "stream",
     "text": [
      "page_content='작업이 완료되면 진공 청소기로 바닥, 작업대, 저울, 기계 등의 분말을 깨끗이 제거한다. 2.7.2.4.' metadata={'page_end': 9, 'jurisdiction': '', 'section_title': '', 'chunk_index': 89, 'section_id': '', 'doc_id': 'SOP_G4_17-98d2f507a0aa', 'title': 'SOP_G4_17', 'doc_date': '2011.01.11', 'page_start': 9, 'chunk_id': 'SOP_G4_17-98d2f507a0aa-0089', 'source_path': 'temp_extract/SOP_SAMPLE(SPK)/SOP_G4_17.pdf', 'doc_version': ''}\n",
      "page_content='분해 가능한 부품들을 분해하여 청소한다. 2.2.2.' metadata={'section_title': '', 'doc_version': '', 'title': 'SOP_G4_17', 'section_id': '', 'page_start': 3, 'doc_id': 'SOP_G4_17-98d2f507a0aa', 'page_end': 3, 'chunk_id': 'SOP_G4_17-98d2f507a0aa-0031', 'chunk_index': 31, 'jurisdiction': '', 'doc_date': '2011.01.11', 'source_path': 'temp_extract/SOP_SAMPLE(SPK)/SOP_G4_17.pdf'}\n",
      "page_content='15. 번의 방법으로 세척한다.' metadata={'doc_date': '2011.01.11', 'chunk_id': 'SOP_G4_17-98d2f507a0aa-0103', 'section_id': '', 'doc_version': '', 'source_path': 'temp_extract/SOP_SAMPLE(SPK)/SOP_G4_17.pdf', 'jurisdiction': '', 'section_title': '', 'title': 'SOP_G4_17', 'chunk_index': 103, 'page_end': 10, 'page_start': 10, 'doc_id': 'SOP_G4_17-98d2f507a0aa'}\n"
     ]
    }
   ],
   "source": [
    "results = sop_vectordb.similarity_search(query=\"청소좀..\", k=3)\n",
    "\n",
    "for r in results:\n",
    "    print(r)"
   ]
  },
  {
   "cell_type": "code",
   "execution_count": 6,
   "id": "d0a345d7",
   "metadata": {},
   "outputs": [
    {
     "data": {
      "text/plain": [
       "[Document(metadata={'page_end': 9, 'jurisdiction': '', 'section_title': '', 'chunk_index': 89, 'section_id': '', 'doc_id': 'SOP_G4_17-98d2f507a0aa', 'title': 'SOP_G4_17', 'doc_date': '2011.01.11', 'page_start': 9, 'chunk_id': 'SOP_G4_17-98d2f507a0aa-0089', 'source_path': 'temp_extract/SOP_SAMPLE(SPK)/SOP_G4_17.pdf', 'doc_version': ''}, page_content='작업이 완료되면 진공 청소기로 바닥, 작업대, 저울, 기계 등의 분말을 깨끗이 제거한다. 2.7.2.4.'),\n",
       " Document(metadata={'section_title': '', 'doc_version': '', 'title': 'SOP_G4_17', 'section_id': '', 'page_start': 3, 'doc_id': 'SOP_G4_17-98d2f507a0aa', 'page_end': 3, 'chunk_id': 'SOP_G4_17-98d2f507a0aa-0031', 'chunk_index': 31, 'jurisdiction': '', 'doc_date': '2011.01.11', 'source_path': 'temp_extract/SOP_SAMPLE(SPK)/SOP_G4_17.pdf'}, page_content='분해 가능한 부품들을 분해하여 청소한다. 2.2.2.'),\n",
       " Document(metadata={'doc_date': '2011.01.11', 'chunk_id': 'SOP_G4_17-98d2f507a0aa-0103', 'section_id': '', 'doc_version': '', 'source_path': 'temp_extract/SOP_SAMPLE(SPK)/SOP_G4_17.pdf', 'jurisdiction': '', 'section_title': '', 'title': 'SOP_G4_17', 'chunk_index': 103, 'page_end': 10, 'page_start': 10, 'doc_id': 'SOP_G4_17-98d2f507a0aa'}, page_content='15. 번의 방법으로 세척한다.')]"
      ]
     },
     "execution_count": 6,
     "metadata": {},
     "output_type": "execute_result"
    }
   ],
   "source": [
    "results"
   ]
  },
  {
   "cell_type": "code",
   "execution_count": 7,
   "id": "711647c8",
   "metadata": {},
   "outputs": [
    {
     "name": "stdout",
     "output_type": "stream",
     "text": [
      "page_content='세척과 관련한 \n",
      "실사 대상은 다음과 같다.' metadata={'chunk_id': '12376ec88d_biotechnology_inspection_guide-a5f2f14a57e5-0156', 'title': '12376ec88d_biotechnology inspection guide', 'doc_date': '', 'chunk_index': 156, 'section_id': '', 'page_start': 29, 'doc_version': '', 'doc_id': '12376ec88d_biotechnology_inspection_guide-a5f2f14a57e5', 'page_end': 29, 'source_path': 'temp_extract/raw/FDA/12376ec88d_biotechnology inspection guide.pdf', 'jurisdiction': 'US-FDA', 'section_title': ''}\n",
      "page_content='세척과 관련한 \n",
      "실사 대상은 다음과 같다.' metadata={'doc_id': 'biotechnology_inspection_guide-723bf356562f', 'section_title': '', 'source_path': 'temp_extract/raw/FDA/biotechnology inspection guide.pdf', 'page_end': 29, 'chunk_id': 'biotechnology_inspection_guide-723bf356562f-0156', 'doc_version': '', 'jurisdiction': 'US-FDA', 'doc_date': '', 'chunk_index': 156, 'page_start': 29, 'section_id': '', 'title': 'biotechnology inspection guide'}\n",
      "page_content='Specific measures for waste handling, contaminated rinsing w ater and soiled \n",
      "gowning; \n",
      " 폐기물 처리, 오염된 헹굼수, 더러워진 작업복의 처리를 위한 대책. vi.' metadata={'section_id': '', 'doc_id': 'eu_gmp_guide_chapter_5_production_2015_3_1-bd8df1d18e36', 'page_end': 11, 'jurisdiction': 'EU', 'page_start': 11, 'title': 'eu gmp guide chapter 5 production 2015 3 1', 'doc_version': '', 'chunk_id': 'eu_gmp_guide_chapter_5_production_2015_3_1-bd8df1d18e36-0040', 'source_path': 'temp_extract/raw/OTHER/eu gmp guide chapter 5 production 2015 3 1.pdf', 'chunk_index': 40, 'section_title': '', 'doc_date': '2015'}\n"
     ]
    }
   ],
   "source": [
    "results2 = gmp_vectordb.similarity_search(query=\"청소좀..\", k=3)\n",
    "\n",
    "for r in results2:\n",
    "    print(r)"
   ]
  },
  {
   "cell_type": "code",
   "execution_count": 8,
   "id": "3163bd13",
   "metadata": {},
   "outputs": [
    {
     "name": "stdout",
     "output_type": "stream",
     "text": [
      "1802\n",
      "69136\n"
     ]
    }
   ],
   "source": [
    "print(sop_vectordb._collection.count())  # 총 문서 수 확인\n",
    "print(gmp_vectordb._collection.count())  # 총 문서 수 확인\n"
   ]
  },
  {
   "cell_type": "code",
   "execution_count": 9,
   "id": "c9c8a52b",
   "metadata": {},
   "outputs": [],
   "source": [
    "# 데이터베이스를 검색기로 사용하기 위해 retriever 변수에 할당\n",
    "sop_retriever = sop_vectordb.as_retriever()\n",
    "gmp_retriever = gmp_vectordb.as_retriever()"
   ]
  },
  {
   "cell_type": "code",
   "execution_count": 10,
   "id": "bc162e11",
   "metadata": {},
   "outputs": [
    {
     "name": "stdout",
     "output_type": "stream",
     "text": [
      "용어 정의 (Definitions) \n",
      " \n",
      "2.1. 계측기 \n",
      "측정, 실험, 분석, 기록, 관찰 등에 사용되는 장비의 일종.\n",
      "=========================================================\n",
      "(Yes/No) \n",
      "Sign \n",
      " \n",
      " \n",
      " \n",
      " \n",
      "Verified by: __________________ Date: __________________ \n",
      " \n",
      "4.3 Lubricants \n",
      " \n",
      "Type Manufacturer Where is it \n",
      "being used Product Contact? (Yes/ No) Acceptable? (Yes/No) \n",
      "Sign \n",
      " \n",
      " \n",
      "Verified by: __________________ Date: __________________\n",
      "\n",
      "Installation Qualification \n",
      " Protocol #: IQP- xxx Ver 01 \n",
      "Title: Name of item Page 7 of 11 \n",
      " \n",
      "19/5/06 page 7 of 11 \n",
      " \n",
      " \n",
      " \n",
      "5 Calibration Items \n",
      " \n",
      "List all instrument and measuring devices – categorise into critical (under calibra tion) or not criticla for \n",
      "indication only)s \n",
      " \n",
      "Item # Item Description Critical \n",
      "(Yes/No) Operating Range Tolerance Recalbration \n",
      "Period \n",
      " \n",
      " \n",
      " \n",
      " \n",
      "Verified by: __________________ Date: __________________ \n",
      " \n",
      "6 Verification of Software and Control Programs \n",
      " \n",
      "Item Name \n",
      "Software description Class of \n",
      "Software \n",
      "(1/2/3/4/5/) Validation \n",
      "Required ? Serial \n",
      "Number \n",
      "Version \n",
      "Number \n",
      "(software) Verified Present \n",
      "and Acceptable by: \n",
      "(signature and \n",
      "date) \n",
      " \n",
      " \n",
      " \n",
      " \n",
      " \n",
      "Verified by: __________________ Date: __________________\n",
      "\n",
      "Installation Qualification \n",
      " Protocol #: IQP- xxx Ver 01 \n",
      "Title: Name of item Page 8 of 11 \n",
      " \n",
      "19/5/06 page 8 of 11 \n",
      " \n",
      " \n",
      "7 Installation, Hookup, Safety, Cleaning and Physical Inspection \n",
      " \n",
      "Item List Requirements Here Inspection Satisfactory Checked by \n",
      "Equipment supplied as per \n",
      "design specification? Drawings of equipment \n",
      "matched that of the \n",
      "machine \n",
      " T Yes T No T N/A \n",
      "Safety Inspections Verified that the item has \n",
      "been earthed \n",
      "Heating blocks made aware to user that it is \n",
      "dangerous / protective \n",
      "cover Emergency stop operates / \n",
      "where to off the machine \n",
      "immediately in times of emergency \n",
      " T Yes T No T N/A \n",
      " \n",
      "T Yes T No T N/A \n",
      " \n",
      " \n",
      " T Yes T No T N/A \n",
      "Final Cleaning Inspection Verify that the item has \n",
      "been cleaned Inspect the item for \n",
      "cleanliness \n",
      " T Yes T No T N/A \n",
      " T Yes T No T N/A \n",
      " \n",
      " \n",
      "Verified by: __________________ Date: __________________\n",
      "\n",
      "Installation Qualification \n",
      " Protocol #: IQP- xxx Ver 01 \n",
      "Title: Name of item Page 9 of 11 \n",
      " \n",
      "19/5/06 page 9 of 11 \n",
      " \n",
      " \n",
      "8 Preventive Maintenance and Safety Assessments \n",
      " \n",
      " \n",
      "8.1 Preventative Maintenance \n",
      "Verify that the Preventive Maintenance pr ogram has been logged in to the PM system.\n",
      "=========================================================\n",
      "(iii) Safety and handling instructions brief overview of the material sa fety data sheet. Its purpose is to \n",
      "outline any special precautions to be taken w hen handling the described product or raw material. (iv) Formulation and label claims This section should list the product ingredients and their exact proportions \n",
      "within a unit dose. Where appropriate these proportions shall also be expressed in terms of label claim. (v) Testing Schedule This section shall describe in table format the testing required at any stage. It shall \n",
      "identify tests not required, those which are on reduced testing and those which are applicable to stability \n",
      "testing only. (vi) Certificate of Analysis - example only required \n",
      " \n",
      "(vii) History of changes This section describes any change which has taken place in the life of the analytical \n",
      "procedure.\n",
      "=========================================================\n",
      "상부 세그먼트를 조립한다. 2.4.2.6. 이 젝션 슈트를 조립하여 본체에 장착한다. (사용되는 와셔는 두꺼운 것임) \n",
      "2.4.2.7. 압축공기 분사 노즐을 부착한다. 주의 : 공기 구멍 슈트와 평행하도록 위치시켜 나사로 고정시킨다. 2.4.2.8.\n",
      "=========================================================\n"
     ]
    }
   ],
   "source": [
    "# 관련 문서를 검색\n",
    "docs = sop_retriever.invoke(\"임베딩(Embedding)은 무엇인가요?\")\n",
    "\n",
    "for doc in docs:\n",
    "    print(doc.page_content)\n",
    "    print(\"=========================================================\")"
   ]
  },
  {
   "cell_type": "code",
   "execution_count": null,
   "id": "b14edc82",
   "metadata": {},
   "outputs": [],
   "source": [
    "import random\n",
    "\n",
    "# 전체 document 가져오기\n",
    "all_docs = sop_vectordb.get(include=[\"metadatas\", \"documents\"])['documents']\n",
    "\n",
    "# 랜덤 샘플링\n",
    "samples = random.sample(all_docs, 30)\n"
   ]
  },
  {
   "cell_type": "code",
   "execution_count": 20,
   "id": "5995825b",
   "metadata": {},
   "outputs": [
    {
     "data": {
      "text/plain": [
       "['Pest Control Map.',\n",
       " '검체 채취량 \\n \\n6.2.1. 원 료 \\n 각 제품표준서 내 원료규격서의 검체 항에 준해 취한다. 6.2.2.',\n",
       " '보관 조건 \\n9.1.6. 안정성 정보 (가능한 경우) \\n 만약 XXX 표준품처럼 안정성 정보가 있는 경우, 이를 참고하고 별도의 정보는 필요하지 않다. 9.2.',\n",
       " '표준작업 절차서 \\nStandard Operation Procedure 문서번호 V01051 \\n개정일자 2011.01.11 \\n밸리데이션 마스터 플랜에 관한 일반규정 페이지 1/7 \\n개정번호 0 \\n \\n \\n000 제약 GMP-GD-004-F01 (2011.01)\\n \\n개 정 이 력 \\n \\n개 정 일 개정번호 개 정 사 항 개 정 사 유 개 정 자 \\n2011.01.11 0 최초작성 제정 \\n \\n \\n \\n \\n \\n \\n \\n \\n \\n \\n작성자 검토자 검토자 승인자 허가자 \\n 품질관리책임자 \\n(QC Manager) 제조관리책임자 \\n(Plant Director)\\n\\n표준작업 절차서 \\nStandard Operation Procedure 문서번호 V01051 \\n개정일자 2011.01.11 \\n벨리데이션 마스터 플랜에 관한 일반 규정 페이지 2/7 \\n개정번호 0 \\n \\n \\n000 제약 GMP-GD-004-F01 (2011.01)\\n 목 차 \\n \\n1. 목 적 (PURPOSE) ..............................................................................................................................',\n",
       " '6.6.5. 방역 작업 중에는 공조기 가동을 중지하고 사람이 들어가서는 안되며 작업 종료 후, \\n 약 2 시간 후 공기를 환기시킨다. 6.6.6. 방역 작업을 하는 동안 약제가 생산 구역으로의 유입을 방지하기 위해 출입문을 비닐로 덮\\n고 사람의 통행을 금지한다. 6.6.7.',\n",
       " '5.1.3.5.',\n",
       " '6.1.3.2. 제안된 제품표준서에 대해 검토자의 Comment가 있는 경우: 기안자는 주석이나 첨언한 내용에 대해 검토자와 협의하여 주석이나 첨언에 대해 수정사항이 있으면, 초안에 합의된 내용을 명시하고, comment 한 검토자의 서명을 받고 날짜를 기입한다. 합의가 이루어지지 않을 경우, 검토자들이 모여 협의를 한 후, 합의된 내용으로 초안을 수정하여 다시 제안서를 작성하고, 이미 문제가 없다고 검토한 검토자에게 다시 검토를 받아 더 이상의 주석이나 첨언이 없도록 한다. 이때, 최초의 주석이나 첨언이 있었던, 제안서와 초안은 버리지 말고 계속 첨부하도록 주의하고, 주석이나 첨언이 달린 최초 초안에는 각 장마다 적색의 “초안”도장을 해당 부서 문서관리자에게 받도록 한다. 6.1.3.3. 승인절차 제안된 제품표준서에 대해 Comment가 없는 경우, 기안자는 초안에(초안이 원본이 된다), \\n 승인서양식(첨부#12)을 준비하고, 제,개정란 및 교육의 필요유무에 check한 다음, 승인 서 + 원본 + 제안서 \\n의 순으로 정리한 후(이후 “문서”라 한다), 승인자에게 제출한다. 승인자는 제조관리 책임자, 품질관리 책임자로 한다 \\n 6.1.4.',\n",
       " 'Manufacturing Equipment Register, MER 98-12485.',\n",
       " '분석 시험법 5.2.10. 분석 조사 목적의 시험에 대한 내용과 실험실장의 서명, 필요한 경우 5.2.11. 밝혀진 근본 원인에 대한 설명 또는 근본 원인이 실험실에 있지 않은 경우 이에 대한 상황 설명\\n\\n표준작업 절차서 \\nStandard Operation Procedure 문서번호 Q02041 \\n개정일자 2011.01.11 \\n실험실 분석조사 페이지 6/9 \\n개정번호 0 \\n \\n \\n000 제약 GMP-GD-004-F01 (2011.01)\\n 5.2.12. 즉각적인 재발 방지 대책 \\n5.2.13.',\n",
       " '..........',\n",
       " '4.2.4.',\n",
       " '패키지는 품질관리 책임자가 승인한다.',\n",
       " '5.2.1. 검토자의 책임이 있는 부서(영역)에 관한 밸리데이션 마스터 플랜이 정확하고, 포괄적인지 결정한다. 5.2.2. 검토자의 책임이 있는 부서(영역)에 관한 요약된 활동 그리고 생성된 목록이 완전하고, 적절한지 결정한 다. 5.2.3.',\n",
       " '호파내의 공 캡슐과 디스크내의 분말 잔량을 제거한다. 2.2.1.17.',\n",
       " '10.5.2.',\n",
       " '공조기의 흡입구는 지표면 근처에 있어서는 안된다. 공장 내부로 흡입되는 공기는 여과되어\\n 야 한다.',\n",
       " '분해 \\n \\n2.3.2.1. 분말 받침 통을 제거한다.',\n",
       " '13. 첨부 목록 (Attachments list) \\n \\n13.1. 첨부#1 : Notebook Assigning Log 13.2. 첨부#2 : 실험 노트 정보 (Assignment Information) 13.3. 첨부#3 : 실험 노트 번호 부여 방법 13.4. 첨부#4 : 실험 노트의 예',\n",
       " 'PQ 패키지 (PQ Package) 7.4.1. 승인되고 완결된 PQ 프로토콜 7.4.2. 다음을 첨부한다 7.4.2.1. 승인된 IQ/OQ 패키지 (참조번호 또는 첨부한다) \\n7.4.2.2. PQ 시험 결과 \\n7.4.2.3.',\n",
       " '6.2.1.',\n",
       " 'Lab Processes and Calibration: SOP 9-2-58. Production Processes and Calibration: SOP 20-1-29. Clean Room Procedures: SOP 1-12-773 Performance Qualification Pre-requisitesThe sealer must pass IQ and OQ phases of qualification before commencing the performancequalification phase.In addition interim or proposed manufacturing instructions should be drafted and approved, allmeasuring instruments should be calibrated, the sealer should pass a safety inspection andoperators trained in the manufacturing instructions. Performance QualificationProtocol #: PQP-xxx Ver 01Gismo Heat SealerPage 3 of 6\\n18/12/07 Page # 3IQ StatusInstallation Qualification has been successfully completed.',\n",
       " '수량설명 기준 = 3 시그마 관리한계 \\n \\n7.2. 과거 데이터 없이 기준 설정하기 \\n 최소 6 로트 이상의 데이터가 확보되지 않으면 본 항에 따라서 기준을 설정한다. 수량설명 기준 \\n \\n7.3. 기준은 언제 업데이트 하는가? 일단 수량설명 기준을 과거 데이터를 근거로 하여 설정되었으면, 그 기준은 해당하는 공정 변경이 \\n일어나지 않는 한 업데이트 하지 않는다. 또한 수량설명 결과에 이상이 없는 한 업데이트 하지 \\n않는다. 유의: 수량설명 기준이 과거 데이터 없이 설정되었다면, 요구되는 최소 데이터 개수 (즉, 6 개 이상)가\\n\\n표준작업 절차서 \\nStandard Operation Procedure 문서번호 G07035 \\n개정일자 2011.01.11 \\n고형제 제조 공정에 대한 수득량 및 수량설명 페이지 6/7 \\n개정번호 0 \\n \\n \\n000 제약 GMP-GD-004-F01 (2011.01)\\n 확보되면 즉시 이 데이터를 이용하여 기준을 업데이트 한다. 7.4.',\n",
       " '로트 출하 결과를 제로시점 결과로 할 경우는 \\n \\n3.1.2.1. 제로시점과 로트 출하 결과일이 60 일 이내의 결과이어야 한다. 3.1.2.2.',\n",
       " '아래의 경우는 가능한 계획일자에 취해야 한다. 만일 부득이한 사정 (i.e.,공휴일, 휴가)일 경우는 ± 2 일\\n 까지 가능하다. (이 경우 편차 아님) \\n \\n- 유효일자 만료일의 샘플(+ 2 일만).',\n",
       " '승인된 매년 사찰 계획 12.2. 업체 변경에 대한 보고서 12.3.',\n",
       " '6.5.2.2.',\n",
       " 'Performance QualificationProtocol #: PQP- xxx Ver 01Gismo Heat SealerPage 1 of 6\\n© SeerPharma Pty Ltd Page # 1\\nPerformance Qualification ProtocolPrepared March 2008TitleHeat Sealer ValidationProductsSterile Gizmos – Codes 12345 through 12789Equipment/Process to be Validated:Supplier Co., Model xyz, ABC Manufacturing EquipmentRegister: MER 98-1248 / Heat Sealing Process: SOP 20-12-14Equipment NumberPPCN 98-364Approval of the Validation ProtocolSign here after reviewing and approving the document, standards and schedulesTitleNameSignatureDateWritten By:Approved By:Validation CoordinatorLaboratory ManagerTechnical/ Quality AssuranceManagerProcess Engineer\\n\\nPerformance QualificationProtocol #: PQP-xxx Ver 01Gismo Heat SealerPage 2 of 6\\n18/12/07 Page # 21 Section 1: PurposeSupplier Co. has developed a new and improved heat sealer, which should improve process flowand reduce setup time.',\n",
       " '4 \\n \\n2. 용어 정의 (Definitions) .............................................................................................................................. ............',\n",
       " '3 \\n2. 용어 정의 (DEFINITIONS) .............................................................................................................................. ...',\n",
       " '스팀, 압축공기, 용수, 냉각장치, 폐기물 보관, 폐기물 처리, 진공, 질소 및 기타 가스, 용매 시스템, 전기, 천연가스 등이 유틸리티에 해당된다.']"
      ]
     },
     "execution_count": 20,
     "metadata": {},
     "output_type": "execute_result"
    }
   ],
   "source": [
    "samples"
   ]
  },
  {
   "cell_type": "code",
   "execution_count": null,
   "id": "1848fd0a",
   "metadata": {},
   "outputs": [],
   "source": []
  }
 ],
 "metadata": {
  "kernelspec": {
   "display_name": "final_pj",
   "language": "python",
   "name": "python3"
  },
  "language_info": {
   "codemirror_mode": {
    "name": "ipython",
    "version": 3
   },
   "file_extension": ".py",
   "mimetype": "text/x-python",
   "name": "python",
   "nbconvert_exporter": "python",
   "pygments_lexer": "ipython3",
   "version": "3.11.13"
  }
 },
 "nbformat": 4,
 "nbformat_minor": 5
}
