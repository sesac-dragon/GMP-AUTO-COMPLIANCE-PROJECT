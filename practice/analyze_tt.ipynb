{
 "cells": [
  {
   "cell_type": "markdown",
   "id": "b8b5d932",
   "metadata": {},
   "source": [
    "# 단순 gmp-sop 비교"
   ]
  },
  {
   "cell_type": "code",
   "execution_count": null,
   "id": "55033e1e",
   "metadata": {},
   "outputs": [],
   "source": [
    "from semantic_compare_rag import SOPGMPComparator as sgc"
   ]
  },
  {
   "cell_type": "code",
   "execution_count": null,
   "id": "dec054ed",
   "metadata": {},
   "outputs": [],
   "source": [
    "comp = sgc()"
   ]
  },
  {
   "cell_type": "markdown",
   "id": "6675d46e",
   "metadata": {},
   "source": [
    "# 지우님 rag 평가"
   ]
  },
  {
   "cell_type": "code",
   "execution_count": null,
   "id": "fb4ddd63",
   "metadata": {},
   "outputs": [],
   "source": [
    "from rag_analyze_test import RAGEvaluator as rev"
   ]
  },
  {
   "cell_type": "code",
   "execution_count": null,
   "id": "b1b873d4",
   "metadata": {},
   "outputs": [],
   "source": [
    "eval = rev()"
   ]
  },
  {
   "cell_type": "markdown",
   "id": "dfad58e6",
   "metadata": {},
   "source": [
    "# 나 rag 평가"
   ]
  },
  {
   "cell_type": "code",
   "execution_count": 1,
   "id": "eb470c9e",
   "metadata": {},
   "outputs": [
    {
     "name": "stderr",
     "output_type": "stream",
     "text": [
      "C:\\Users\\황여진\\AppData\\Local\\Temp\\ipykernel_26224\\3310989387.py:9: LangChainDeprecationWarning: The class `HuggingFaceEmbeddings` was deprecated in LangChain 0.2.2 and will be removed in 1.0. An updated version of the class exists in the langchain-huggingface package and should be used instead. To use it run `pip install -U langchain-huggingface` and import as `from langchain_huggingface import HuggingFaceEmbeddings`.\n",
      "  embeddings = HuggingFaceEmbeddings(\n",
      "c:\\anaconda3\\envs\\final_pj\\Lib\\site-packages\\tqdm\\auto.py:21: TqdmWarning: IProgress not found. Please update jupyter and ipywidgets. See https://ipywidgets.readthedocs.io/en/stable/user_install.html\n",
      "  from .autonotebook import tqdm as notebook_tqdm\n"
     ]
    },
    {
     "name": "stdout",
     "output_type": "stream",
     "text": [
      "Loading SOP database from: C:\\chroma_db\\duwls_chroma_db_sop\n"
     ]
    },
    {
     "name": "stderr",
     "output_type": "stream",
     "text": [
      "C:\\Users\\황여진\\AppData\\Local\\Temp\\ipykernel_26224\\3310989387.py:18: LangChainDeprecationWarning: The class `Chroma` was deprecated in LangChain 0.2.9 and will be removed in 1.0. An updated version of the class exists in the langchain-chroma package and should be used instead. To use it run `pip install -U langchain-chroma` and import as `from langchain_chroma import Chroma`.\n",
      "  sop_vectordb = Chroma(\n"
     ]
    },
    {
     "name": "stdout",
     "output_type": "stream",
     "text": [
      "SOP database loaded successfully!\n",
      "Loading GMP database from: C:\\chroma_db\\chroma_db_gmp\n",
      "GMP database loaded successfully!\n"
     ]
    }
   ],
   "source": [
    "# vector store 연결\n",
    "from langchain.embeddings import HuggingFaceEmbeddings\n",
    "from langchain_community.vectorstores import Chroma\n",
    "\n",
    "model_name: str = \"jhgan/ko-sroberta-multitask\"\n",
    "sop_db_path =\"C:\\chroma_db\\duwls_chroma_db_sop\"\n",
    "gmp_db_path =\"C:\\chroma_db\\chroma_db_gmp\"\n",
    "\n",
    "embeddings = HuggingFaceEmbeddings(\n",
    "            model_name=model_name,\n",
    "            encode_kwargs={'normalize_embeddings': True},\n",
    "            model_kwargs={'device': 'cpu'},\n",
    "        )\n",
    "        \n",
    "# SOP 벡터DB 로드\n",
    "print(f\"Loading SOP database from: {sop_db_path}\")\n",
    "try:\n",
    "    sop_vectordb = Chroma(\n",
    "        persist_directory=sop_db_path,\n",
    "        embedding_function=embeddings,\n",
    "        collection_name=\"duwls_sop_documents_semantic\"  # 실제 컬렉션명으로 수정\n",
    "    )\n",
    "    print(\"SOP database loaded successfully!\")\n",
    "except Exception as e:\n",
    "    print(f\"Error loading SOP database: {e}\")\n",
    "    sop_vectordb = None\n",
    "        \n",
    "# GMP 벡터DB 로드\n",
    "print(f\"Loading GMP database from: {gmp_db_path}\")\n",
    "try:\n",
    "    gmp_vectordb = Chroma(\n",
    "        persist_directory=gmp_db_path,\n",
    "        embedding_function=embeddings,\n",
    "        collection_name=\"gmp_documents_semantic\"  # 실제 컬렉션명으로 수정\n",
    "    )\n",
    "    print(\"GMP database loaded successfully!\")\n",
    "except Exception as e:\n",
    "    print(f\"Error loading GMP database: {e}\")\n",
    "    gmp_vectordb = None"
   ]
  },
  {
   "cell_type": "code",
   "execution_count": 4,
   "id": "f64c5787",
   "metadata": {},
   "outputs": [],
   "source": [
    "import random\n",
    "\n",
    "# 전체 document 가져오기\n",
    "all_docs = sop_vectordb.get(include=[\"metadatas\", \"documents\"])['documents']\n",
    "\n",
    "# 랜덤 샘플링\n",
    "sop_samples = random.sample(all_docs, 30)\n"
   ]
  },
  {
   "cell_type": "code",
   "execution_count": 5,
   "id": "1317133e",
   "metadata": {},
   "outputs": [
    {
     "data": {
      "text/plain": [
       "['데이터 변환과 이동 \\n 밸리데이션 계획은 반드시, 높은 수준에서, 데이터 변환과 이동, 새로운 데이터 요구사항, 또는 데이터 보\\n 관 요구 사항들의 범위를 설명해야 한다. 3.1.1.6.',\n",
       " '6.5.2.2.',\n",
       " '용어 정의 (Definitions) 2.1. 적격성평가 \\n장비가 적절히 설치되고 올바르게 작동하고 그로 인하여 기대되는 결과가 실제로 나타나는지를 검증하고 기록하는 행위 \\n 2.2. 사용자요구규격 \\n제작업체에 정확한 정보를 제공하기 위해 XXXXXX의 기준, 장비의 특성, 규격 등을 관련 담당자와 협의하여 관련 정보를 취합한 문서. 2.3.',\n",
       " '5.4.3.5.',\n",
       " 'supplied with the equipment II. Required Documents: a listing of all the docu ments necessary to provide a complete history of \\nthe equipment and to ensure its correct operation, cleaning and maintenance \\nIII. Utility Requirements \\nIV. Component Material: a listing of all the product contact components and their materials of \\nconstruction \\nV. Lubricants \\nVI.',\n",
       " '...............................................................',\n",
       " '위 내용이외에 관해서는 폐기물관리법 또는 관련 법령에 기초한 폐기물관리자의 지시나 요구사항을 \\n 준수한다 \\n \\n 17.',\n",
       " '5.1.2.5. 장비의 작동방법에 대한 교육을 진행한다. 5.1.3.',\n",
       " '6.',\n",
       " '내부 검토자로 공무부, 안전관리당자를 포함시켜 관련 영향 평가를 받도록 한\\n 다.',\n",
       " '포장에 사용된 자재 내역 기록 \\n \\n6.1.1. 포장 작업에 사용된 자재 및 제품 (예: 캡, 병, 솜)은 포장지시 기록서에 기록되어야 한다. 기록 사항은 자재 코드번호, 자재 로트번호 등을 기록한다. 6.1.2. 기록되어야 할 자재는 포장지시 기록서에 명시되어 있어야 하고 포함될 사항은 최소한 일차 용기와 \\n 제품의 품질에 영향을 주는 기타 자재들이다. 6.2.',\n",
       " '5\\n\\n표준작업 절차서 \\nStandard Operation Procedure 문서번호 Q02035 \\n개정일자 2011.01.11 \\n시험 결과값의 유효숫자처리 규정 페이지 3/5 \\n개정번호 0 \\n \\n \\n000 제약 GMP-GD-004-F01 (2011.01)\\n 1. 목 적 (Purpose) \\n 실험실에서 발생되는 시험결과치의 처리 규정을 확립하기 위하여 \\n \\n \\n2. 용어 정의 (Definitions) \\n \\n2.1. 시험성적서 \\n품질관리 기록서로서 Lab Report 를 말한다. 2.2. Worksheet(시험일지) \\n계산과정 등을 포함하여 시험방법 등에 대해 자세히 기술한 일지를 말한다. 2.3. 규격치(n) \\n허가 또는 자가기준에서 명시한 기준의 소수점이하의 자릿수(예, 허가기준이 90.0%이상이 라면 규격\\n치(n)은 1 이다.) \\n \\n \\n3. 시험결과 정리법(총괄) \\n \\n3.1 규격치가 n 인 경우 실험치는 n+1 자리까지 구하고 사사오입하여 자릿수를 정리한다. 3.2 실험치가 n=2 이상 자릿수까지 될 경우 n+2 자리는 버리고 n+1 자리를 사사오입한다. 예를 들면 규격\\n 치가 1 일 경우 1.23 → 1.2, 1.25 → 1.3, 1.249 → 1.2 와 같이 된다. 시험성적의 판정 은 위에서와 같이 \\n 실험치를 구하고 규격치와 비교하여 판정한다. 4. 분석기기 출력 결과값의 정리 \\n (예 pH meter 의 결과치 7.25 UV 흡광도 값 0.1234 등) \\n \\n4.1. 발생된 실험 결과를 가지고 평균 등을 산출하기 위해 계산을 할 경우 반올림하지 않은 실험결과를 가\\n 지고 계산하고 최종 계산된 값에서 반올림을 한다. 4.2. 개개의 실험 결과 값과 평균값이 같이 성적서에 기록될 경우 그 평균 값은 반올림하지 않은 개개\\n 의 실험결과를 이용하여 그 평균 값을 구하고, 개개의 실험 결과 값은 반올림 한 후 성적서에 기록한\\n 다 . 5.',\n",
       " '소유자/사용자 \\n장비의 사용이나 관리에 책임을 갖는 사람, 정해진 규정에 따라 교육 받은 사람 \\n \\n2.6. 예방정비 \\n정해진 장비의 작동 상태나 수명을 유지하기 위해서 장비의 고장 전에 행하여지는 관리. 예방정비는 사전관리, 주기적인 예방정비를 포함한다. 2.7. 예방정비예정일 \\n공무팀에 의 해 설정된 예방정비를 실시하도록 정해진 날짜 . 차기 점검일은 최종 점검일에 점검 기간을 더한 날짜이다. 주의 : 품질관리 실험실의 장비에 대한 예방 정비는 실험실의 규정을 참고 한다. 표준작업 절차서 \\nStandard Operation Procedure 문서번호 G06009 \\n개정일자 2011.01.11 \\n공장의 예방정비 프로그램 페이지 4/6 \\n개정번호 0 \\n \\n \\n000 제약 GMP-GD-004-F01 (2011.01)\\n 3. 책임 소재 \\n 3.1.',\n",
       " '4.2.1.8.',\n",
       " '6.4.2.3.',\n",
       " '규정 “교육 훈련 과정의 및 교재의 준비, 승인, 시행 및 문서 관리”를 참조한다.',\n",
       " 'The expiration time point samples (only + 2 calander days). - 가속시험용 샘플 (Accelerated storage condition samples) \\n- 재조합(복용상태) 안정성샘플; 주사용분말 , 현탁용분말 (예, 시클러 건조시럽) \\n \\n6.3. 샘플이 실험실에 도착하면 안정성시험 관리자와 실험 담당자는 다음을 한다.',\n",
       " '......................... 7 \\n6. 첨부 목록 (ATTACHMENT LIST) ............................................................... ..........................................................',\n",
       " '수행되는 프로젝트에 근거하여, 책임 영역이 포함된 요약된 활동 그리고 생성된 목록이 완전하고 적정한지 \\n 확인한다. 7.',\n",
       " '기술지원 및 품질관리의 적임자는 제안된 변경을 평가한다. 평가 되는 변경의 보기는 다음과 같으며 제한은 \\n없다: \\n 6.1.1.',\n",
       " '승인자 6.1.4.1. 제품 표준서를 확인하고, 검토자의 목록(첨부#1)에 없는 다른 부서에 영향을 주는지, 그러한 부서가 있는 \\n 경우는 그 부서의 확인을 요구할 것인지를 결정한다. (추가의 검토자가 결정된 경우는, 이미 검토된 제안서에 추가로 검토자를 기입하여 검토받도록 한다) 6.1.4.2. 승인자는 제품표준서의 내용 및 교육계획 내용에 문제가 없으면, approval 란에 check( ∨)하고 이름 옆에 \\n서명하고 날짜를 기입한다. 교육이 필요 없다고 표시된 경우는 그 이유의 타당성을 주의 깊게 확인한다. 6.1.4.3. 승인자는 제품표준서의 내용에 문제가 있으면, disapproval 란에 check(∨)하고 비승인 의 이유를 comment \\n 란에 기입하고 comment옆에 서명, 날짜를 기입한다 . 6.1.4.4.',\n",
       " '문서보관 \\n 적격성평가와 밸리데이션 문서의 대체된 버전은 해당 기록보관 필수사항에 따라 보관되어야 한다. 14.',\n",
       " '4.6.',\n",
       " '건물 내부의 해충을 박멸하기 위한 방역 작업 기준 \\n \\n6.1. 방역 주기는 1 월, 4 월, 7 월, 10 월의 셋째 금요일을 기준으로 ±7 일중에 전문방역업체에 의\\n뢰하여 실시하며 매월 자체적으로 방충, 방서를 실시한다. 다만 주기적으로 실시하는 것과 \\n병행하여 해충이 존재하거나 존재 가능성이 있는 곳에 수시로 한다. 이때 사용하는 약제는 \\n가정에서 사용하는 약제를 사용한다.',\n",
       " 'PQ 수행 중에 획득한 데이터의 분석, 요약 및 조언 7.4.4. 승인 – PQ 패키지는 준비자의 서명/일자 및 검토자의 서명/일자가 있어야 하며 품질관리 책임자가 승인한다\\n\\n표준작업 절차서 \\nStandard Operation Procedure 문서번호 G09020 \\n개정일자 2011.01.11 \\n의약품제조공정에 사용되는 Direct Impact \\n장비 /시스템 /유틸리티의 적격성평가 페이지 9/10 \\n개정번호 0 \\n \\n \\n000 제약 GMP-GD-004-F01 (2011.01)\\n 8. 재 적격성평가 \\nRQ는 변경 또는 사후보전(수리)을 발생하고 이런 것들이 장비/시스템/유틸리티의 핵심 사양에 심각한 영향을 준다고 판단되었을 때에 실시한다.',\n",
       " '워크시트 작성법 \\n \\n3.1.1. 워크시트 작성시의 일반적인 주의사항 \\n \\n3.1.1.1 워크시트상에 요구되는 항목(품목코드, Lot No., 실험결과들, 시험일, 실험자의 서명, 이중점검 자의 서명, \\n사용된 시험규격서 번호 등 워크시트에서 기록하여야 할 모든 사항 (제품표준서 관리규정의 \\nWorksheet 양식 참조)을 시험하면서 그 즉시 빠짐 없이 기록한다. 3.1.1.2 다만, 시험일은 시험이 1 일 안에 종료되는 경우는 그 시험일을 기록한다.',\n",
       " '보호구의 위치와 사용법을 숙지한다 4.5. 비상장비의 위치와 사용법을 숙지한다 4.6. 비상문의 위치와 비상구를 숙지한다 4.7. 실험실 비상조치 절차를 숙지한다 4.8. 항상 눈보호구를 착용한다 4.9. 실험실의 복장규정을 준수한다 4.10.',\n",
       " '10 \\n11. 안정성 챔버의 모니터링 .............................................................................................................................. .........',\n",
       " '5 \\n10. 기록 보관 .............................................................................................................................. ..................................',\n",
       " '주사제 검사 \\n \\n3.1. 모든 주사제는 라벨링 또는 최종 포장 공정을 시작하기 전에 100% 생산부에 전수 검사 한다. 제품을 충 진한 \\n 동일한 장소에서의 100% 전수 검사를 할 필요는 없다.']"
      ]
     },
     "execution_count": 5,
     "metadata": {},
     "output_type": "execute_result"
    }
   ],
   "source": [
    "sop_samples"
   ]
  },
  {
   "cell_type": "code",
   "execution_count": null,
   "id": "b1a73c74",
   "metadata": {},
   "outputs": [],
   "source": []
  }
 ],
 "metadata": {
  "kernelspec": {
   "display_name": "final_pj",
   "language": "python",
   "name": "python3"
  },
  "language_info": {
   "codemirror_mode": {
    "name": "ipython",
    "version": 3
   },
   "file_extension": ".py",
   "mimetype": "text/x-python",
   "name": "python",
   "nbconvert_exporter": "python",
   "pygments_lexer": "ipython3",
   "version": "3.11.13"
  }
 },
 "nbformat": 4,
 "nbformat_minor": 5
}
