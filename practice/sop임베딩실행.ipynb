{
 "cells": [
  {
   "cell_type": "code",
   "execution_count": 1,
   "id": "c3c03053",
   "metadata": {},
   "outputs": [],
   "source": [
    "from embedding_sop import main_embedding_only"
   ]
  },
  {
   "cell_type": "code",
   "execution_count": 2,
   "id": "6346d855",
   "metadata": {},
   "outputs": [
    {
     "name": "stdout",
     "output_type": "stream",
     "text": [
      "=== GMP Document Embedding Generator ===\n",
      "Loading embeddings model: jhgan/ko-sroberta-multitask\n"
     ]
    },
    {
     "name": "stderr",
     "output_type": "stream",
     "text": [
      "c:\\Users\\황여진\\Desktop\\final_pj\\embedding_sop.py:220: LangChainDeprecationWarning: The class `HuggingFaceEmbeddings` was deprecated in LangChain 0.2.2 and will be removed in 1.0. An updated version of the class exists in the langchain-huggingface package and should be used instead. To use it run `pip install -U langchain-huggingface` and import as `from langchain_huggingface import HuggingFaceEmbeddings`.\n",
      "  self.embeddings = HuggingFaceEmbeddings(\n",
      "c:\\anaconda3\\envs\\final_pj\\Lib\\site-packages\\tqdm\\auto.py:21: TqdmWarning: IProgress not found. Please update jupyter and ipywidgets. See https://ipywidgets.readthedocs.io/en/stable/user_install.html\n",
      "  from .autonotebook import tqdm as notebook_tqdm\n"
     ]
    },
    {
     "name": "stdout",
     "output_type": "stream",
     "text": [
      "Model loaded successfully!\n",
      "GMP terms loaded: 662 terms\n",
      "\n",
      "Processing SOP documents...\n",
      "Loading chunks from: semantic_chunks_sop.jsonl\n"
     ]
    },
    {
     "name": "stderr",
     "output_type": "stream",
     "text": [
      "Loading chunks: 1802it [00:00, 15889.45it/s]\n"
     ]
    },
    {
     "name": "stdout",
     "output_type": "stream",
     "text": [
      "Loaded 1802 chunks\n"
     ]
    },
    {
     "name": "stderr",
     "output_type": "stream",
     "text": [
      "Creating documents: 100%|██████████| 1802/1802 [00:00<00:00, 18602.81it/s]\n"
     ]
    },
    {
     "name": "stdout",
     "output_type": "stream",
     "text": [
      "Creating Chroma database with 1802 documents...\n",
      "Collection: duwls_sop_documents_semantic\n",
      "Persist directory: ./duwls_chroma_db_sop\n",
      "Chroma database created in 526.84s\n",
      "Config saved to: duwls_chroma_db_sop\\config.json\n",
      "\n",
      "=== Processing Complete ===\n",
      "Document chunks processed: 1802\n",
      "GMP terms available: 662 terms (hardcoded)\n",
      "Collection name: duwls_sop_documents_semantic\n",
      "Persist directory: ./duwls_chroma_db_sop\n"
     ]
    },
    {
     "name": "stderr",
     "output_type": "stream",
     "text": [
      "c:\\Users\\황여진\\Desktop\\final_pj\\embedding_sop.py:296: LangChainDeprecationWarning: Since Chroma 0.4.x the manual persistence method is no longer supported as docs are automatically persisted.\n",
      "  vectorstore.persist()\n"
     ]
    }
   ],
   "source": [
    "main_embedding_only()"
   ]
  }
 ],
 "metadata": {
  "kernelspec": {
   "display_name": "Python 3",
   "language": "python",
   "name": "python3"
  },
  "language_info": {
   "codemirror_mode": {
    "name": "ipython",
    "version": 3
   },
   "file_extension": ".py",
   "mimetype": "text/x-python",
   "name": "python",
   "nbconvert_exporter": "python",
   "pygments_lexer": "ipython3",
   "version": "3.11.13"
  }
 },
 "nbformat": 4,
 "nbformat_minor": 5
}
